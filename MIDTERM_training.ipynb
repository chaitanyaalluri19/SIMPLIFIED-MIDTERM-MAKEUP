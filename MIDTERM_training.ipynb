{
  "nbformat": 4,
  "nbformat_minor": 0,
  "metadata": {
    "colab": {
      "provenance": []
    },
    "kernelspec": {
      "name": "python3",
      "display_name": "Python 3"
    },
    "language_info": {
      "name": "python"
    }
  },
  "cells": [
    {
      "cell_type": "code",
      "source": [
        "!pip install scikit-learn==1.2.1"
      ],
      "metadata": {
        "colab": {
          "base_uri": "https://localhost:8080/"
        },
        "id": "l_fPaqY5Kddk",
        "outputId": "fa150d7c-785a-423a-ee75-b44fc159a5f6"
      },
      "execution_count": null,
      "outputs": [
        {
          "output_type": "stream",
          "name": "stdout",
          "text": [
            "Requirement already satisfied: scikit-learn==1.2.1 in /usr/local/lib/python3.10/dist-packages (1.2.1)\n",
            "Requirement already satisfied: numpy>=1.17.3 in /usr/local/lib/python3.10/dist-packages (from scikit-learn==1.2.1) (1.25.2)\n",
            "Requirement already satisfied: scipy>=1.3.2 in /usr/local/lib/python3.10/dist-packages (from scikit-learn==1.2.1) (1.11.4)\n",
            "Requirement already satisfied: joblib>=1.1.1 in /usr/local/lib/python3.10/dist-packages (from scikit-learn==1.2.1) (1.4.0)\n",
            "Requirement already satisfied: threadpoolctl>=2.0.0 in /usr/local/lib/python3.10/dist-packages (from scikit-learn==1.2.1) (3.4.0)\n"
          ]
        }
      ]
    },
    {
      "cell_type": "code",
      "execution_count": null,
      "metadata": {
        "colab": {
          "base_uri": "https://localhost:8080/"
        },
        "id": "3vHABGJ5GmjK",
        "outputId": "1c55ae6a-e3df-43ec-8594-4888f67b10e9"
      },
      "outputs": [
        {
          "output_type": "stream",
          "name": "stdout",
          "text": [
            "Logistic Regression Accuracy: 0.9488555655372046\n",
            "              precision    recall  f1-score   support\n",
            "\n",
            "      benign       0.95      0.98      0.97     85778\n",
            "  defacement       0.96      1.00      0.98     19104\n",
            "     malware       0.99      0.95      0.97      6521\n",
            "    phishing       0.90      0.75      0.82     18836\n",
            "\n",
            "    accuracy                           0.95    130239\n",
            "   macro avg       0.95      0.92      0.93    130239\n",
            "weighted avg       0.95      0.95      0.95    130239\n",
            "\n",
            "Logistic Regression Predictions: ['defacement' 'phishing']\n"
          ]
        }
      ],
      "source": [
        "import pandas as pd\n",
        "from sklearn.model_selection import train_test_split\n",
        "from sklearn.feature_extraction.text import TfidfVectorizer\n",
        "from sklearn.linear_model import LogisticRegression\n",
        "from sklearn.metrics import classification_report, accuracy_score\n",
        "\n",
        "# Load the dataset\n",
        "data = pd.read_csv(\"/content/malicious_phish.csv\")\n",
        "\n",
        "# Feature extraction\n",
        "X = data['url']\n",
        "y = data['type']\n",
        "\n",
        "# Splitting the dataset into training and testing sets\n",
        "X_train, X_test, y_train, y_test = train_test_split(X, y, test_size=0.2, random_state=42)\n",
        "\n",
        "# Convert URLs into features using TF-IDF\n",
        "vectorizer = TfidfVectorizer()\n",
        "X_train_vect = vectorizer.fit_transform(X_train)\n",
        "X_test_vect = vectorizer.transform(X_test)\n",
        "\n",
        "# Train Logistic Regression classifier\n",
        "lr_model = LogisticRegression(max_iter=1000, random_state=42)\n",
        "lr_model.fit(X_train_vect, y_train)\n",
        "\n",
        "# Evaluate Logistic Regression model\n",
        "lr_y_pred = lr_model.predict(X_test_vect)\n",
        "print(\"Logistic Regression Accuracy:\", accuracy_score(y_test, lr_y_pred))\n",
        "print(classification_report(y_test, lr_y_pred))\n",
        "\n",
        "# Predicting new URLs\n",
        "new_urls = [\"http://example.com\", \"http://malicious-site.com\"]\n",
        "new_urls_vect = vectorizer.transform(new_urls)\n",
        "lr_predictions = lr_model.predict(new_urls_vect)\n",
        "print(\"Logistic Regression Predictions:\", lr_predictions)\n"
      ]
    },
    {
      "cell_type": "code",
      "source": [
        "import joblib\n",
        "# Save the trained model\n",
        "joblib.dump(lr_model, 'logistic_regression_model.pkl')\n",
        "joblib.dump(vectorizer, 'tfidf_vectorizer.pkl')"
      ],
      "metadata": {
        "colab": {
          "base_uri": "https://localhost:8080/"
        },
        "id": "kbhqar-7JRXj",
        "outputId": "b719bcc4-6b77-4e2c-9a73-93dd2e51f0b7"
      },
      "execution_count": null,
      "outputs": [
        {
          "output_type": "execute_result",
          "data": {
            "text/plain": [
              "['tfidf_vectorizer.pkl']"
            ]
          },
          "metadata": {},
          "execution_count": 3
        }
      ]
    }
  ]
}